{
 "cells": [
  {
   "cell_type": "raw",
   "id": "df3ce8da",
   "metadata": {},
   "source": [
    "1. Set the variable test1 to the string 'This is a test of the emergency text system,' and save test1 to a\n",
    "file named test.txt."
   ]
  },
  {
   "cell_type": "code",
   "execution_count": 1,
   "id": "310bb50f",
   "metadata": {},
   "outputs": [
    {
     "data": {
      "text/plain": [
       "44"
      ]
     },
     "execution_count": 1,
     "metadata": {},
     "output_type": "execute_result"
    }
   ],
   "source": [
    "test1 = 'This is a test of the emergency text system,'\n",
    "filee = open('test.txt','w')\n",
    "filee.write(test1)"
   ]
  },
  {
   "cell_type": "code",
   "execution_count": null,
   "id": "043011d9",
   "metadata": {},
   "outputs": [],
   "source": []
  },
  {
   "cell_type": "raw",
   "id": "133dbeed",
   "metadata": {},
   "source": [
    "2. Read the contents of the file test.txt into the variable test2. Is there a difference between test 1\n",
    "and test 2?"
   ]
  },
  {
   "cell_type": "code",
   "execution_count": 2,
   "id": "e7da0a6d",
   "metadata": {},
   "outputs": [
    {
     "data": {
      "text/plain": [
       "''"
      ]
     },
     "execution_count": 2,
     "metadata": {},
     "output_type": "execute_result"
    }
   ],
   "source": [
    "file2 = open('test.txt','r')\n",
    "test2 = file2.readline()\n",
    "test2"
   ]
  },
  {
   "cell_type": "code",
   "execution_count": 3,
   "id": "2b80e923",
   "metadata": {},
   "outputs": [],
   "source": [
    "if test1==test2:\n",
    "    print('Both are same')\n",
    "     "
   ]
  },
  {
   "cell_type": "code",
   "execution_count": null,
   "id": "aa8345e3",
   "metadata": {},
   "outputs": [],
   "source": []
  },
  {
   "cell_type": "raw",
   "id": "a70f43e2",
   "metadata": {},
   "source": [
    "3. Create a CSV file called books.csv by using these lines:\n",
    "title,author,year\n",
    "The Weirdstone of Brisingamen,Alan Garner,1960\n",
    "Perdido Street Station,China Miéville,2000\n",
    "Thud!,Terry Pratchett,2005\n",
    "The Spellman Files,Lisa Lutz,2007\n",
    "Small Gods,Terry Pratchett,1992"
   ]
  },
  {
   "cell_type": "code",
   "execution_count": 1,
   "id": "8570aff3",
   "metadata": {},
   "outputs": [],
   "source": [
    "import csv\n",
    "rows =[ ['title','author','year'],\n",
    "    ['The Weirdstone of Brisingamen','Alan Garner',1960],\n",
    "    ['Perdido Street Station','China Miéville',2000],\n",
    "    ['Thud!','Terry Pratchett',2005],\n",
    "    ['The Spellman Files','Lisa Lutz',2007],\n",
    "    ['Small Gods','Terry Pratchett',1992]]\n",
    "with open('books.csv','w',newline='') as file:\n",
    "    writer = csv.writer(file)\n",
    "    writer.writerows(rows)    "
   ]
  },
  {
   "cell_type": "code",
   "execution_count": null,
   "id": "705c9f87",
   "metadata": {},
   "outputs": [],
   "source": []
  },
  {
   "cell_type": "code",
   "execution_count": null,
   "id": "181f1b85",
   "metadata": {},
   "outputs": [],
   "source": []
  },
  {
   "cell_type": "raw",
   "id": "c52fb4b9",
   "metadata": {},
   "source": [
    "4. Use the sqlite3 module to create a SQLite database called books.db, and a table called books with\n",
    "these fields: title (text), author (text), and year (integer)."
   ]
  },
  {
   "cell_type": "code",
   "execution_count": 8,
   "id": "4ff36388",
   "metadata": {},
   "outputs": [],
   "source": [
    "import sqlite3\n",
    "conn = sqlite3.connect('books.db')\n",
    "c = conn.cursor()\n",
    "\n",
    "c.execute('create table books(title varchar(20),author varchar(20), year int)')\n",
    "conn.commit()"
   ]
  },
  {
   "cell_type": "code",
   "execution_count": null,
   "id": "c42294ec",
   "metadata": {},
   "outputs": [],
   "source": []
  },
  {
   "cell_type": "raw",
   "id": "2f573019",
   "metadata": {},
   "source": [
    "5. Read books.csv and insert its data into the book table."
   ]
  },
  {
   "cell_type": "code",
   "execution_count": 9,
   "id": "210cc936",
   "metadata": {},
   "outputs": [],
   "source": [
    "import pandas as pd\n",
    "\n",
    "read_books = pd.read_csv('books.csv',encoding='unicode_escape')\n",
    "read_books.to_sql('books', conn, if_exists='append', index = False)\n",
    "     \n"
   ]
  },
  {
   "cell_type": "code",
   "execution_count": null,
   "id": "60eeec11",
   "metadata": {},
   "outputs": [],
   "source": []
  },
  {
   "cell_type": "raw",
   "id": "10d4afc2",
   "metadata": {},
   "source": [
    "6. Select and print the title column from the book table in alphabetical order."
   ]
  },
  {
   "cell_type": "code",
   "execution_count": 10,
   "id": "0bdda8eb",
   "metadata": {},
   "outputs": [
    {
     "name": "stdout",
     "output_type": "stream",
     "text": [
      "[('Perdido Street Station',), ('Small Gods',), ('The Spellman Files',), ('The Weirdstone of Brisingamen',), ('Thud!',)]\n"
     ]
    }
   ],
   "source": [
    "c.execute('select title from books order by title asc')\n",
    "print(c.fetchall())\n",
    "     "
   ]
  },
  {
   "cell_type": "code",
   "execution_count": null,
   "id": "3dd88f7c",
   "metadata": {},
   "outputs": [],
   "source": []
  },
  {
   "cell_type": "raw",
   "id": "731705b5",
   "metadata": {},
   "source": [
    "7. From the book table, select and print all columns in the order of publication."
   ]
  },
  {
   "cell_type": "code",
   "execution_count": 11,
   "id": "3a7402e4",
   "metadata": {},
   "outputs": [
    {
     "data": {
      "text/html": [
       "<div>\n",
       "<style scoped>\n",
       "    .dataframe tbody tr th:only-of-type {\n",
       "        vertical-align: middle;\n",
       "    }\n",
       "\n",
       "    .dataframe tbody tr th {\n",
       "        vertical-align: top;\n",
       "    }\n",
       "\n",
       "    .dataframe thead th {\n",
       "        text-align: right;\n",
       "    }\n",
       "</style>\n",
       "<table border=\"1\" class=\"dataframe\">\n",
       "  <thead>\n",
       "    <tr style=\"text-align: right;\">\n",
       "      <th></th>\n",
       "      <th>title</th>\n",
       "      <th>author</th>\n",
       "      <th>year</th>\n",
       "    </tr>\n",
       "  </thead>\n",
       "  <tbody>\n",
       "    <tr>\n",
       "      <th>0</th>\n",
       "      <td>The Weirdstone of Brisingamen</td>\n",
       "      <td>Alan Garner</td>\n",
       "      <td>1960</td>\n",
       "    </tr>\n",
       "    <tr>\n",
       "      <th>1</th>\n",
       "      <td>Small Gods</td>\n",
       "      <td>Terry Pratchett</td>\n",
       "      <td>1992</td>\n",
       "    </tr>\n",
       "    <tr>\n",
       "      <th>2</th>\n",
       "      <td>Perdido Street Station</td>\n",
       "      <td>China MiÃ©ville</td>\n",
       "      <td>2000</td>\n",
       "    </tr>\n",
       "    <tr>\n",
       "      <th>3</th>\n",
       "      <td>Thud!</td>\n",
       "      <td>Terry Pratchett</td>\n",
       "      <td>2005</td>\n",
       "    </tr>\n",
       "    <tr>\n",
       "      <th>4</th>\n",
       "      <td>The Spellman Files</td>\n",
       "      <td>Lisa Lutz</td>\n",
       "      <td>2007</td>\n",
       "    </tr>\n",
       "  </tbody>\n",
       "</table>\n",
       "</div>"
      ],
      "text/plain": [
       "                           title           author  year\n",
       "0  The Weirdstone of Brisingamen      Alan Garner  1960\n",
       "1                     Small Gods  Terry Pratchett  1992\n",
       "2         Perdido Street Station  China MiÃ©ville  2000\n",
       "3                          Thud!  Terry Pratchett  2005\n",
       "4             The Spellman Files        Lisa Lutz  2007"
      ]
     },
     "execution_count": 11,
     "metadata": {},
     "output_type": "execute_result"
    }
   ],
   "source": [
    "c.execute('select title, author,year from books order by year')\n",
    "\n",
    "\n",
    "df = pd.DataFrame(c.fetchall(), columns=['title','author','year'])\n",
    "df\n",
    "     "
   ]
  },
  {
   "cell_type": "code",
   "execution_count": null,
   "id": "df185693",
   "metadata": {},
   "outputs": [],
   "source": []
  },
  {
   "cell_type": "raw",
   "id": "c31ec2e2",
   "metadata": {},
   "source": [
    "8. Use the sqlalchemy module to connect to the sqlite3 database books.db that you just made in\n",
    "exercise 6."
   ]
  },
  {
   "cell_type": "code",
   "execution_count": 12,
   "id": "b4f32ead",
   "metadata": {},
   "outputs": [
    {
     "name": "stdout",
     "output_type": "stream",
     "text": [
      "('The Weirdstone of Brisingamen', 'Alan Garner', 1960)\n",
      "('Perdido Street Station', 'China MiÃ©ville', 2000)\n",
      "('Thud!', 'Terry Pratchett', 2005)\n",
      "('The Spellman Files', 'Lisa Lutz', 2007)\n",
      "('Small Gods', 'Terry Pratchett', 1992)\n"
     ]
    }
   ],
   "source": [
    "import sqlalchemy\n",
    "engine = sqlalchemy.create_engine(\"sqlite:///books.db\")\n",
    "rows = engine.execute('select * from books')\n",
    "for i in rows:\n",
    "    print(i)\n",
    "     "
   ]
  },
  {
   "cell_type": "code",
   "execution_count": null,
   "id": "5f45f667",
   "metadata": {},
   "outputs": [],
   "source": []
  },
  {
   "cell_type": "raw",
   "id": "c731474f",
   "metadata": {},
   "source": [
    "9. Install the Redis server and the Python redis library (pip install redis) on your computer. Create a\n",
    "Redis hash called test with the fields count (1) and name (&#39;Fester Bestertester&#39;). Print all the fields for\n",
    "test."
   ]
  },
  {
   "cell_type": "code",
   "execution_count": 24,
   "id": "26673221",
   "metadata": {},
   "outputs": [
    {
     "name": "stdout",
     "output_type": "stream",
     "text": [
      "Requirement already satisfied: redis in /opt/anaconda3/lib/python3.8/site-packages (5.0.0)\n",
      "Requirement already satisfied: async-timeout>=4.0.2 in /opt/anaconda3/lib/python3.8/site-packages (from redis) (4.0.3)\n"
     ]
    }
   ],
   "source": [
    "!pip install redis"
   ]
  },
  {
   "cell_type": "raw",
   "id": "4a614eea",
   "metadata": {},
   "source": [
    "import redis\n",
    "conn= redis.Redis()\n",
    "conn.delete('test')\n",
    "conn.hmset('test', {'count': 1, 'name': 'Fester Bestertester'})\n",
    "conn.hgetall('test')  "
   ]
  },
  {
   "cell_type": "code",
   "execution_count": null,
   "id": "94770fbb",
   "metadata": {},
   "outputs": [],
   "source": []
  },
  {
   "cell_type": "raw",
   "id": "3e1991fb",
   "metadata": {},
   "source": [
    "10. Increment the count field of test and print it."
   ]
  },
  {
   "cell_type": "raw",
   "id": "6909903a",
   "metadata": {},
   "source": [
    "conn.hincrby('test','count', 3)"
   ]
  },
  {
   "cell_type": "code",
   "execution_count": null,
   "id": "e202ea41",
   "metadata": {},
   "outputs": [],
   "source": []
  },
  {
   "cell_type": "code",
   "execution_count": null,
   "id": "775753c9",
   "metadata": {},
   "outputs": [],
   "source": []
  },
  {
   "cell_type": "code",
   "execution_count": null,
   "id": "c43b358d",
   "metadata": {},
   "outputs": [],
   "source": []
  },
  {
   "cell_type": "code",
   "execution_count": null,
   "id": "d18995cc",
   "metadata": {},
   "outputs": [],
   "source": []
  }
 ],
 "metadata": {
  "kernelspec": {
   "display_name": "Python 3",
   "language": "python",
   "name": "python3"
  },
  "language_info": {
   "codemirror_mode": {
    "name": "ipython",
    "version": 3
   },
   "file_extension": ".py",
   "mimetype": "text/x-python",
   "name": "python",
   "nbconvert_exporter": "python",
   "pygments_lexer": "ipython3",
   "version": "3.8.8"
  }
 },
 "nbformat": 4,
 "nbformat_minor": 5
}
